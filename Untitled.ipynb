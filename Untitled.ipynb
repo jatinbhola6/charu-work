{
 "cells": [
  {
   "cell_type": "code",
   "execution_count": 1,
   "metadata": {},
   "outputs": [],
   "source": [
    "import pandas as pd\n",
    "import numpy as np"
   ]
  },
  {
   "cell_type": "code",
   "execution_count": 2,
   "metadata": {},
   "outputs": [],
   "source": [
    "df = pd.read_csv('Datasets/environmental.csv',index_col=0)"
   ]
  },
  {
   "cell_type": "code",
   "execution_count": 3,
   "metadata": {},
   "outputs": [],
   "source": [
    "def assign_cluster(data_row,mean_df):\n",
    "    return mean_df.apply(lambda mean_row: round(np.sum((data_row-mean_row)**2)**0.5,2),axis=1).idxmin()"
   ]
  },
  {
   "cell_type": "code",
   "execution_count": 4,
   "metadata": {},
   "outputs": [],
   "source": [
    "def get_mean(cluster_row,dataset):\n",
    "    return dataset.loc[dataset['cluster']==cluster_row.name].mean().drop('cluster')"
   ]
  },
  {
   "cell_type": "code",
   "execution_count": 5,
   "metadata": {},
   "outputs": [],
   "source": [
    "def check_termination(cluster,assign_cluster):\n",
    "    return cluster == assign_cluster"
   ]
  },
  {
   "cell_type": "code",
   "execution_count": 8,
   "metadata": {},
   "outputs": [],
   "source": [
    "def main(dataset,no_cluster):\n",
    "    #nrows,ncols = dataset.shape\n",
    "    mean_df = dataset.sample(no_cluster)\n",
    "    mean_df.index = range(no_cluster)\n",
    "    calc_mean = None\n",
    "    iter_count = 0\n",
    "    while not mean_df.equals(calc_mean) :\n",
    "        calc_mean = mean_df\n",
    "        dataset['cluster'] = dataset.drop('cluster',errors='ignore').apply(assign_cluster,axis=1,mean_df=mean_df)\n",
    "        mean_df = mean_df.apply(get_mean,axis=1,dataset=dataset)\n",
    "        iter_count += 1\n",
    "    return dataset,iter_count"
   ]
  },
  {
   "cell_type": "code",
   "execution_count": 14,
   "metadata": {},
   "outputs": [
    {
     "data": {
      "text/plain": [
       "12"
      ]
     },
     "execution_count": 14,
     "metadata": {},
     "output_type": "execute_result"
    }
   ],
   "source": [
    "res_df, no_iter = main(df,5)\n",
    "no_iter"
   ]
  },
  {
   "cell_type": "code",
   "execution_count": null,
   "metadata": {},
   "outputs": [],
   "source": []
  }
 ],
 "metadata": {
  "kernelspec": {
   "display_name": "Python 2",
   "language": "python",
   "name": "python2"
  },
  "language_info": {
   "codemirror_mode": {
    "name": "ipython",
    "version": 2
   },
   "file_extension": ".py",
   "mimetype": "text/x-python",
   "name": "python",
   "nbconvert_exporter": "python",
   "pygments_lexer": "ipython2",
   "version": "2.7.14"
  }
 },
 "nbformat": 4,
 "nbformat_minor": 2
}
